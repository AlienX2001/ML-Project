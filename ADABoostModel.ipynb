{
  "cells": [
    {
      "cell_type": "code",
      "execution_count": 1,
      "metadata": {
        "id": "aFLFN3t1AKym"
      },
      "outputs": [],
      "source": [
        "import pandas as pd\n",
        "import numpy as np\n",
        "import seaborn as sns\n",
        "import matplotlib.pyplot as plt\n",
        "from sklearn.decomposition import PCA\n",
        "from sklearn.ensemble import AdaBoostClassifier, RandomForestClassifier\n",
        "from sklearn.model_selection import train_test_split, learning_curve\n",
        "from sklearn.metrics import accuracy_score, classification_report, confusion_matrix\n",
        "from sklearn.preprocessing import StandardScaler\n",
        "import tensorflow as tf\n",
        "from tensorflow.keras import layers, regularizers, callbacks\n",
        "import matplotlib.pyplot as plt\n",
        "from sklearn.model_selection import GridSearchCV\n"
      ]
    },
    {
      "cell_type": "code",
      "execution_count": 2,
      "metadata": {
        "colab": {
          "base_uri": "https://localhost:8080/"
        },
        "id": "Z9V7e99PAX65",
        "outputId": "0005c8ce-41be-45eb-a25a-5b690aa0ee63"
      },
      "outputs": [
        {
          "output_type": "stream",
          "name": "stdout",
          "text": [
            "Drive already mounted at /content/drive; to attempt to forcibly remount, call drive.mount(\"/content/drive\", force_remount=True).\n"
          ]
        }
      ],
      "source": [
        "from google.colab import drive\n",
        "drive.mount('/content/drive')\n"
      ]
    },
    {
      "cell_type": "code",
      "execution_count": 3,
      "metadata": {
        "id": "-TVK4wT_AZeM"
      },
      "outputs": [],
      "source": [
        "file_path = '/content/drive/MyDrive/Project - 1 | Machine Learning/combinedcsv.csv'\n",
        "df = pd.read_csv(file_path)\n"
      ]
    },
    {
      "cell_type": "code",
      "execution_count": 4,
      "metadata": {
        "id": "53_P0SfcAdbQ"
      },
      "outputs": [],
      "source": [
        "target = df['malicious']\n",
        "df = df.drop(columns=['malicious', 'md5_hash'])\n",
        "\n",
        "# Standardize the data (recommended for PCA)\n",
        "scaler = StandardScaler()\n",
        "df_scaled = scaler.fit_transform(df)"
      ]
    },
    {
      "cell_type": "code",
      "execution_count": 5,
      "metadata": {
        "id": "XMEOf1SCAfQz"
      },
      "outputs": [],
      "source": [
        "pca = PCA()\n",
        "pca_result = pca.fit_transform(df_scaled)\n",
        "\n",
        "explained_variance_ratio = pca.explained_variance_ratio_\n",
        "cumulative_variance = np.cumsum(explained_variance_ratio)\n",
        "n_components_95 = np.argmax(cumulative_variance >= 0.95) + 1\n",
        "\n",
        "pca = PCA(n_components=n_components_95)\n",
        "pca_result = pca.fit_transform(df_scaled)"
      ]
    },
    {
      "cell_type": "code",
      "execution_count": null,
      "metadata": {
        "id": "mOp2owSwAoLQ"
      },
      "outputs": [],
      "source": [
        "# Splitting data\n",
        "X_train, X_temp, y_train, y_temp = train_test_split(pca_result, target, test_size=0.3, random_state=42)\n",
        "X_val, X_test, y_val, y_test = train_test_split(X_temp, y_temp, test_size=1/3, random_state=42)\n",
        "\n",
        "# Define the AdaBoost classifier\n",
        "ada_classifier = AdaBoostClassifier()\n",
        "\n",
        "# Define the parameter grid for grid search\n",
        "param_grid = {\n",
        "    'n_estimators': [50, 100, 150],\n",
        "    'learning_rate': [0.01, 0.1, 1]\n",
        "}\n",
        "\n",
        "# Create the GridSearchCV object\n",
        "grid_search = GridSearchCV(estimator=ada_classifier, param_grid=param_grid, cv=3, scoring='accuracy')\n",
        "\n",
        "# Fit the grid search to the data\n",
        "grid_search.fit(X_train, y_train)\n",
        "\n",
        "# Get the best parameters\n",
        "best_params = grid_search.best_params_\n",
        "\n",
        "# Instantiate AdaBoost classifier with best parameters\n",
        "best_ada_classifier = AdaBoostClassifier(**best_params)\n",
        "\n",
        "# Train the model\n",
        "best_ada_classifier.fit(X_train, y_train)\n",
        "\n",
        "# Predictions\n",
        "y_train_pred = best_ada_classifier.predict(X_train)\n",
        "y_val_pred = best_ada_classifier.predict(X_val)\n",
        "y_test_pred = best_ada_classifier.predict(X_test)\n",
        "\n",
        "# Calculate scores\n",
        "train_score = accuracy_score(y_train, y_train_pred)\n",
        "val_score = accuracy_score(y_val, y_val_pred)\n",
        "test_score = accuracy_score(y_test, y_test_pred)\n",
        "\n",
        "# Confusion Matrix\n",
        "conf_matrix = confusion_matrix(y_test, y_test_pred)\n",
        "\n",
        "# Classification Report\n",
        "class_report = classification_report(y_test, y_test_pred)\n",
        "\n",
        "# Print the results\n",
        "print(\"1) Training Score:\", train_score)\n",
        "print(\"   Validation Score:\", val_score)\n",
        "print(\"   Testing Score:\", test_score)\n",
        "print(\"\\n2) Confusion Matrix:\\n\", conf_matrix)\n",
        "print(\"\\n3) Classification Report:\\n\", class_report)\n",
        "print(\"\\n4) Best Parameters:\", best_params)\n"
      ]
    },
    {
      "cell_type": "code",
      "execution_count": null,
      "metadata": {
        "id": "heJgdZ01A92-"
      },
      "outputs": [],
      "source": [
        "from sklearn.model_selection import learning_curve\n",
        "\n",
        "# Function to plot learning curve\n",
        "def plot_learning_curve(estimator, X, y, title=\"Learning Curve\", ylim=None, cv=None, n_jobs=None, train_sizes=np.linspace(.1, 1.0, 5)):\n",
        "    plt.figure()\n",
        "    plt.title(title)\n",
        "    if ylim is not None:\n",
        "        plt.ylim(*ylim)\n",
        "    plt.xlabel(\"Training examples\")\n",
        "    plt.ylabel(\"Score\")\n",
        "    train_sizes, train_scores, test_scores = learning_curve(\n",
        "        estimator, X, y, cv=cv, n_jobs=n_jobs, train_sizes=train_sizes)\n",
        "    train_scores_mean = np.mean(train_scores, axis=1)\n",
        "    train_scores_std = np.std(train_scores, axis=1)\n",
        "    test_scores_mean = np.mean(test_scores, axis=1)\n",
        "    test_scores_std = np.std(test_scores, axis=1)\n",
        "    plt.grid()\n",
        "\n",
        "    plt.fill_between(train_sizes, train_scores_mean - train_scores_std,\n",
        "                     train_scores_mean + train_scores_std, alpha=0.1,\n",
        "                     color=\"r\")\n",
        "    plt.fill_between(train_sizes, test_scores_mean - test_scores_std,\n",
        "                     test_scores_mean + test_scores_std, alpha=0.1, color=\"g\")\n",
        "    plt.plot(train_sizes, train_scores_mean, 'o-', color=\"r\",\n",
        "             label=\"Training score\")\n",
        "    plt.plot(train_sizes, test_scores_mean, 'o-', color=\"g\",\n",
        "             label=\"Cross-validation score\")\n",
        "\n",
        "    plt.legend(loc=\"best\")\n",
        "    return plt\n",
        "\n",
        "# Plot learning curve\n",
        "title = \"Learning Curves (AdaBoost)\"\n",
        "plot_learning_curve(grid_search.best_estimator_, X_train, y_train, title=title, ylim=(0.7, 1.01), cv=3, n_jobs=-1)\n",
        "\n",
        "# Display the plot\n",
        "plt.show()\n"
      ]
    },
    {
      "cell_type": "code",
      "execution_count": null,
      "metadata": {
        "id": "7pR7Sr8NBB57"
      },
      "outputs": [],
      "source": []
    }
  ],
  "metadata": {
    "colab": {
      "provenance": []
    },
    "kernelspec": {
      "display_name": "Python 3",
      "name": "python3"
    },
    "language_info": {
      "name": "python"
    }
  },
  "nbformat": 4,
  "nbformat_minor": 0
}