{
  "cells": [
    {
      "cell_type": "code",
      "execution_count": null,
      "metadata": {
        "id": "NsHV_xm2qBv-"
      },
      "outputs": [],
      "source": [
        "import numpy as np\n",
        "import pandas as pd\n",
        "import matplotlib.pyplot as plt\n",
        "from google.colab import drive\n",
        "drive.mount('/content/drive')\n",
        "file_path = '/content/drive/MyDrive/mlproj/combinedcsv.csv'\n",
        "df = pd.read_csv(file_path)\n"
      ]
    },
    {
      "cell_type": "code",
      "execution_count": null,
      "metadata": {
        "id": "YFhz5tiw_4lP",
        "outputId": "9df4cd21-4732-4585-b2c4-c70bfc06e4c4"
      },
      "outputs": [
        {
          "name": "stdout",
          "output_type": "stream",
          "text": [
            "Dropped columns: 295 ['ACCESS_BLOBS_ACROSS_USERS', 'BIND_CARRIER_MESSAGING_CLIENT_SERVICE', 'BIND_COMPANION_DEVICE_SERVICE', 'BIND_CONTROLS', 'BIND_QUICK_ACCESS_WALLET_SERVICE', 'BIND_TV_INTERACTIVE_APP', 'BIND_VISUAL_VOICEMAIL_SERVICE', 'BODY_SENSORS_BACKGROUND', 'DELIVER_COMPANION_MESSAGES', 'HIDE_OVERLAY_WINDOWS', 'LAUNCH_MULTI_PANE_SETTINGS_DEEP_LINK', 'LOADER_USAGE_STATS', 'MANAGE_MEDIA', 'MANAGE_ONGOING_CALLS', 'MANAGE_WIFI_INTERFACES', 'MANAGE_WIFI_NETWORK_SELECTION', 'NEARBY_WIFI_DEVICES', 'NFC_PREFERRED_PAYMENT_INFO', 'READ_ASSISTANT_APP_SEARCH_DATA', 'READ_BASIC_PHONE_STATE', 'READ_HOME_APP_SEARCH_DATA', 'READ_NEARBY_STREAMING_POLICY', 'READ_VOICEMAIL', 'REQUEST_COMPANION_PROFILE_APP_STREAMING', 'REQUEST_COMPANION_PROFILE_AUTOMOTIVE_PROJECTION', 'REQUEST_COMPANION_PROFILE_COMPUTER', 'REQUEST_COMPANION_PROFILE_WATCH', 'REQUEST_COMPANION_SELF_MANAGED', 'REQUEST_COMPANION_START_FOREGROUND_SERVICES_FROM_BACKGROUND', 'REQUEST_OBSERVE_COMPANION_DEVICE_PRESENCE', 'SMS_FINANCIAL_TRANSACTIONS', 'START_VIEW_APP_FEATURES', 'START_VIEW_PERMISSION_USAGE', 'SUBSCRIBE_TO_KEYGUARD_LOCKED_STATE', 'UPDATE_PACKAGES_WITHOUT_USER_ACTION', 'USE_EXACT_ALARM', 'USE_ICC_AUTH_WITH_DEVICE_IDENTIFIER', 'UWB_RANGING', 'androidx.activity.contextaware', 'androidx.annotation', 'androidx.appsearch.annotation', 'androidx.appsearch.app', 'androidx.appsearch.builtintypes', 'androidx.appsearch.exceptions', 'androidx.appsearch.localstorage', 'androidx.appsearch.observer', 'androidx.appsearch.platformstorage', 'androidx.arch.core.executor.testing', 'androidx.asynclayoutinflater.appcompat', 'androidx.autofill', 'androidx.autofill.inline', 'androidx.benchmark', 'androidx.benchmark.junit4', 'androidx.benchmark.macro', 'androidx.benchmark.macro.junit4', 'androidx.benchmark.perfetto', 'androidx.biometric.auth', 'androidx.browser.trusted.sharing', 'androidx.browser.trusted.splashscreens', 'androidx.camera.mlkit.vision', 'androidx.camera.previewview', 'androidx.camera.video', 'androidx.camera.view.transform', 'androidx.camera.viewfinder', 'androidx.car.app.activity', 'androidx.car.app.activity.renderer.surface', 'androidx.car.app.annotations', 'androidx.car.app.connection', 'androidx.car.app.constraints', 'androidx.car.app.hardware', 'androidx.car.app.hardware.climate', 'androidx.car.app.hardware.common', 'androidx.car.app.hardware.info', 'androidx.car.app.managers', 'androidx.car.app.media', 'androidx.car.app.messaging', 'androidx.car.app.messaging.model', 'androidx.car.app.navigation.model', 'androidx.car.app.notification', 'androidx.car.app.serialization', 'androidx.car.app.suggestion', 'androidx.car.app.suggestion.model', 'androidx.car.app.testing', 'androidx.car.app.testing.navigation', 'androidx.car.app.validation', 'androidx.car.app.versioning', 'androidx.constraintlayout.core.dsl', 'androidx.constraintlayout.core.motion.parse', 'androidx.constraintlayout.core.utils', 'androidx.core.accessibilityservice', 'androidx.core.database', 'androidx.core.database.sqlite', 'androidx.core.performance', 'androidx.core.role', 'androidx.core.telephony', 'androidx.core.telephony.mbms', 'androidx.core.transition', 'androidx.core.uwb', 'androidx.core.uwb.exceptions', 'androidx.core.uwb.rxjava3', 'androidx.customview.poolingcontainer', 'androidx.datastore.core', 'androidx.datastore.core.handlers', 'androidx.datastore.core.okio', 'androidx.datastore.migrations', 'androidx.datastore.preferences.rxjava2', 'androidx.datastore.preferences.rxjava3', 'androidx.datastore.rxjava2', 'androidx.datastore.rxjava3', 'androidx.draganddrop', 'androidx.emoji.bundled', 'androidx.emoji2.bundled', 'androidx.fragment.app.strictmode', 'androidx.graphics.lowlatency', 'androidx.graphics.opengl', 'androidx.graphics.opengl.egl', 'androidx.graphics.surface', 'androidx.hardware', 'androidx.health.connect.client', 'androidx.health.connect.client.aggregate', 'androidx.health.connect.client.changes', 'androidx.health.connect.client.permission', 'androidx.health.connect.client.records', 'androidx.health.connect.client.records.metadata', 'androidx.health.connect.client.request', 'androidx.health.connect.client.response', 'androidx.health.connect.client.time', 'androidx.health.connect.client.units', 'androidx.health.platform.client.request', 'androidx.health.services.client', 'androidx.health.services.client.data', 'androidx.heifwriter', 'androidx.hilt.navigation', 'androidx.hilt.navigation.fragment', 'androidx.hilt.work', 'androidx.input.motionprediction', 'androidx.javascriptengine', 'androidx.leanback.database', 'androidx.leanback.paging', 'androidx.leanback.system', 'androidx.leanback.tab', 'androidx.lifecycle.testing', 'androidx.media.utils', 'androidx.mediarouter.testing', 'androidx.metrics.performance', 'androidx.navigation.testing', 'androidx.opengl', 'androidx.paging.rxjava2', 'androidx.paging.rxjava3', 'androidx.paging.testing', 'androidx.privacysandbox.tools', 'androidx.privacysandbox.tools.apigenerator', 'androidx.privacysandbox.tools.apigenerator.parser', 'androidx.privacysandbox.tools.apipackager', 'androidx.privacysandbox.tools.core', 'androidx.privacysandbox.tools.core.generator', 'androidx.privacysandbox.tools.core.model', 'androidx.privacysandbox.tools.core.proto', 'androidx.privacysandbox.tools.core.validator', 'androidx.recommendation.app', 'androidx.resourceinspection.annotation', 'androidx.resourceinspection.processor', 'androidx.room.rxjava3', 'androidx.room.testing', 'androidx.security.app.authenticator', 'androidx.security.identity', 'androidx.slice.core', 'androidx.test.uiautomator', 'androidx.tracing.perfetto', 'androidx.tv.foundation', 'androidx.tv.foundation.lazy.grid', 'androidx.tv.foundation.lazy.list', 'androidx.tv.material', 'androidx.tv.material.carousel', 'androidx.tv.material.immersivelist', 'androidx.tvprovider.media.tv', 'androidx.wear.input', 'androidx.wear.input.testing', 'androidx.wear.ongoing', 'androidx.wear.phone.interactions', 'androidx.wear.phone.interactions.authentication', 'androidx.wear.phone.interactions.notifications', 'androidx.wear.provider', 'androidx.wear.remote.interactions', 'androidx.wear.tiles', 'androidx.wear.tiles.client', 'androidx.wear.tiles.connection', 'androidx.wear.tiles.manager', 'androidx.wear.tiles.material', 'androidx.wear.tiles.material.layouts', 'androidx.wear.tiles.renderer', 'androidx.wear.tiles.testing', 'androidx.wear.tiles.timeline', 'androidx.wear.utils', 'androidx.wear.watchface', 'androidx.wear.watchface.client', 'androidx.wear.watchface.complications', 'androidx.wear.watchface.complications.data', 'androidx.wear.watchface.complications.datasource', 'androidx.wear.watchface.complications.rendering', 'androidx.wear.watchface.data', 'androidx.wear.watchface.editor', 'androidx.wear.watchface.style', 'androidx.window.core.layout', 'androidx.window.rxjava2.layout', 'androidx.window.rxjava3.layout', 'androidx.window.testing.layout', 'android.adservices', 'android.annotation', 'android.app.appsearch', 'android.app.appsearch.exceptions', 'android.app.appsearch.observer', 'android.app.people', 'android.app.sdksandbox', 'android.content.pm.verify.domain', 'android.hardware.lights', 'android.location.provider', 'android.media.tv.interactive', 'android.net.eap', 'android.net.ipsec.ike', 'android.net.ipsec.ike.exceptions', 'android.net.rtp', 'android.net.vcn', 'android.net.wifi.aware', 'android.net.wifi.hotspot2.omadm', 'android.os.ext', 'android.security.identity', 'android.service.controls.actions', 'android.service.restrictions', 'android.telephony.data', 'android.telephony.emergency', 'android.telephony.euicc', 'android.telephony.ims.feature', 'android.telephony.ims.stub', 'android.test.suitebuilder', 'android.test.suitebuilder.annotation', 'android.util.proto', 'android.view.displayhash', 'android.view.translation', 'android.widget.inline', 'dalvik.annotation', 'dalvik.bytecode', 'com.google.android.gms.appindex', 'com.google.android.gms.appindex.builders', 'com.google.android.gms.auth.blockstore', 'com.google.android.gms.auth.managed.password', 'com.google.android.gms.common.testing', 'com.google.android.gms.actions', 'com.google.android.gms.cast.framework.media.uicontroller', 'com.google.android.gms.cast.tv', 'com.google.android.gms.cast.tv.cac', 'com.google.android.gms.cast.tv.media', 'com.google.android.gms.net', 'com.google.android.gms.drive.widget', 'com.google.android.gms.dtdi', 'com.google.android.gms.dtdi.analytics', 'com.google.android.gms.dtdi.core', 'com.google.android.gms.fido.common', 'com.google.android.gms.fido.sourcedevice', 'com.google.android.gms.home.matter', 'com.google.android.gms.nearby.messages.audio', 'com.google.android.gms.nearby.uwb', 'com.google.android.gms.recaptcha', 'com.google.android.vending.verifier', 'com.google.android.gms.streamprotect', 'com.google.android.gms.tflite.client', 'com.google.android.gms.tflite.gpu.support', 'com.google.android.gms.tflite.java', 'com.google.android.gms.threadnetwork', 'ANSWER', 'SYNC', 'PICK_ACTIVITY', 'PACKAGE_CHANGED', 'PACKAGE_RESTARTED', 'PACKAGE_DATA_CLEARED', 'PACKAGES_SUSPENDED', 'PACKAGES_UNSUSPENDED', 'UID_REMOVED', 'POWER_CONNECTED', 'POWER_DISCONNECTED', 'SHUTDOWN', 'TEST', 'CAR_DOCK', 'LE_DESK_DOCK', 'HE_DESK_DOCK', 'CAR_MODE', 'VR_HOME', '229', '232', '237', '244', '245', '246', '249', '252']\n",
            "Validation Accuracy with Random Forest: 0.9726609533253063\n",
            "Testing Accuracy with Random Forest: 0.9766272398895106\n",
            "Confusion Matrix (Testing) with Random Forest:\n",
            "[[6197  110]\n",
            " [ 220 7592]]\n",
            "Classification Report (Testing) with Random Forest:\n",
            "              precision    recall  f1-score   support\n",
            "\n",
            "           0       0.97      0.98      0.97      6307\n",
            "           1       0.99      0.97      0.98      7812\n",
            "\n",
            "    accuracy                           0.98     14119\n",
            "   macro avg       0.98      0.98      0.98     14119\n",
            "weighted avg       0.98      0.98      0.98     14119\n",
            "\n"
          ]
        }
      ],
      "source": [
        "import pandas as pd\n",
        "import numpy as np\n",
        "from sklearn.model_selection import train_test_split, GridSearchCV\n",
        "from sklearn.preprocessing import StandardScaler\n",
        "from sklearn.linear_model import LogisticRegression\n",
        "from sklearn.ensemble import RandomForestClassifier\n",
        "from sklearn.metrics import accuracy_score, confusion_matrix, classification_report\n",
        "\n",
        "\n",
        "# Drop columns containing only a single value\n",
        "columns_drop = list()\n",
        "for column in df.columns:\n",
        "    unique_values = df[column].unique()\n",
        "    if len(unique_values) == 1:\n",
        "        columns_drop.append(column)\n",
        "\n",
        "df.drop(columns_drop, axis=1, inplace=True)\n",
        "print(f\"Dropped columns: {len(columns_drop)}\", columns_drop)\n",
        "\n",
        "# Separate the target variable ('malicious' column)\n",
        "X = df.drop(columns=['malicious', 'md5_hash'])\n",
        "y = df['malicious']\n",
        "# Split the data into training (60%), validation (20%), and testing (20%) sets\n",
        "X_train, X_temp, y_train, y_temp = train_test_split(X, y, test_size=0.4, random_state=42)\n",
        "X_valid, X_test, y_valid, y_test = train_test_split(X_temp, y_temp, test_size=0.5, random_state=42)\n",
        "\n",
        "# Standardize the features (important for logistic regression)\n",
        "scaler = StandardScaler()\n",
        "X_train = scaler.fit_transform(X_train)\n",
        "X_valid = scaler.transform(X_valid)\n",
        "X_test = scaler.transform(X_test)\n",
        "\n",
        "# GridSearch to find the best C for L1 regularization in Logistic Regression\n",
        "param_grid_logistic = {\n",
        "    'C': [0.001, 0.01, 0.1, 1, 10],\n",
        "    'penalty': ['l1'],\n",
        "    'solver': ['liblinear'],  # liblinear is a good choice for small datasets and L1 penalty\n",
        "    'max_iter': [10000]\n",
        "}\n",
        "\n",
        "grid_search_logistic = GridSearchCV(estimator=LogisticRegression(), param_grid=param_grid_logistic, cv=5, error_score='raise', n_jobs=2)\n",
        "grid_search_logistic.fit(X_train, y_train)\n",
        "\n",
        "# Use the best estimator to identify important features\n",
        "best_logistic = grid_search_logistic.best_estimator_\n",
        "important_features = np.where(best_logistic.coef_[0] != 0)[0]\n",
        "\n",
        "# Select only the important features for the Random Forest model\n",
        "X_train_selected = X_train[:, important_features]\n",
        "X_valid_selected = X_valid[:, important_features]\n",
        "X_test_selected = X_test[:, important_features]\n",
        "\n",
        "# Train a Random Forest Classifier on the selected features\n",
        "clf_rf = RandomForestClassifier(n_estimators=100, random_state=42)\n",
        "clf_rf.fit(X_train_selected, y_train)\n",
        "\n",
        "# Make predictions and evaluate the model on the validation data\n",
        "y_valid_pred_rf = clf_rf.predict(X_valid_selected)\n",
        "valid_accuracy_rf = accuracy_score(y_valid, y_valid_pred_rf)\n",
        "print(\"Validation Accuracy with Random Forest:\", valid_accuracy_rf)\n",
        "\n",
        "# Make predictions and evaluate the model on the test data\n",
        "y_test_pred_rf = clf_rf.predict(X_test_selected)\n",
        "test_accuracy_rf = accuracy_score(y_test, y_test_pred_rf)\n",
        "print(\"Testing Accuracy with Random Forest:\", test_accuracy_rf)\n",
        "\n",
        "# Generate and print the confusion matrix and classification report for testing data\n",
        "confusion_rf = confusion_matrix(y_test, y_test_pred_rf)\n",
        "print(\"Confusion Matrix (Testing) with Random Forest:\")\n",
        "print(confusion_rf)\n",
        "\n",
        "classification_rep_rf = classification_report(y_test, y_test_pred_rf)\n",
        "print(\"Classification Report (Testing) with Random Forest:\")\n",
        "print(classification_rep_rf)"
      ]
    }
  ],
  "metadata": {
    "colab": {
      "provenance": []
    },
    "kernelspec": {
      "display_name": "Python 3",
      "name": "python3"
    },
    "language_info": {
      "codemirror_mode": {
        "name": "ipython",
        "version": 3
      },
      "file_extension": ".py",
      "mimetype": "text/x-python",
      "name": "python",
      "nbconvert_exporter": "python",
      "pygments_lexer": "ipython3",
      "version": "3.9.18"
    }
  },
  "nbformat": 4,
  "nbformat_minor": 0
}